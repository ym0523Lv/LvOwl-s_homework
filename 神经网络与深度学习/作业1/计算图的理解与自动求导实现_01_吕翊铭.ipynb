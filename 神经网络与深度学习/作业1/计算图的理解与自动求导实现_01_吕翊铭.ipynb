{
 "cells": [
  {
   "cell_type": "markdown",
   "metadata": {
    "id": "BDvb24FG5aBT"
   },
   "source": [
    "## 1.绘制计算图"
   ]
  },
  {
   "cell_type": "markdown",
   "metadata": {
    "id": "5MXjdPfY9fRr"
   },
   "source": [
    "令 $$A=x$$$$B=e^{A}$$$$C=5$$$$D=B+C$$$$E=\\log(D)$$ 可得计算图如下："
   ]
  },
  {
   "cell_type": "markdown",
   "metadata": {
    "colab": {
     "base_uri": "https://localhost:8080/"
    },
    "id": "WsQfcCYa09hp",
    "outputId": "b4402585-bbe8-422b-dc3e-0d23129863ae"
   },
   "source": [
    "![计算图](https://github.com/ym0523Lv/LvOwl-s_homework/raw/main/神经网络与深度学习/作业1/image.png)"
   ]
  },
  {
   "cell_type": "markdown",
   "metadata": {},
   "source": [
    "给定$x=5$为初值，所以$A=x=5$   \n",
    "$$A=5$$$$B=e^{5}$$$$C=5$$$$D=e^{5}+5$$$$E=\\log(e^{5}+5)$$"
   ]
  },
  {
   "cell_type": "markdown",
   "metadata": {
    "id": "shz_MLqW6Cwj"
   },
   "source": [
    "## 2. 对计算图中的每一步进行反向传播"
   ]
  },
  {
   "cell_type": "markdown",
   "metadata": {},
   "source": [
    "对于$E=\\log(D)$，$\\frac{\\partial E}{\\partial D}=\\frac{1}{D}$"
   ]
  },
  {
   "cell_type": "markdown",
   "metadata": {},
   "source": [
    "对于$D=B+C$，由于C是常数，所以算对B的导数，即$\\frac{\\partial D}{\\partial B}+\\frac{\\partial D}{\\partial C}=1+0=1$"
   ]
  },
  {
   "cell_type": "markdown",
   "metadata": {},
   "source": [
    "对于$B=e^{A}$，$\\frac{\\partial B}{\\partial A}=e^{A}$"
   ]
  },
  {
   "cell_type": "markdown",
   "metadata": {},
   "source": [
    "根据链式法则，$$\\frac{\\partial E}{\\partial x}=\\frac{\\partial E}{\\partial D}\\cdot\\frac{\\partial D}{\\partial B}\\cdot\\frac{\\partial B}{\\partial A}=\\frac{1}{D}\\cdot1\\cdot e^{A}=\\frac{1}{e^{5}+5}\\cdot1\\cdot e^{5}$$ \n",
    "即$$\\frac{\\partial E}{\\partial x}=\\frac{e^{5}}{e^{5}+5}$$"
   ]
  },
  {
   "cell_type": "markdown",
   "metadata": {},
   "source": [
    "## 3.pytorch验证"
   ]
  },
  {
   "cell_type": "code",
   "execution_count": 2,
   "metadata": {},
   "outputs": [],
   "source": [
    "import torch"
   ]
  },
  {
   "cell_type": "code",
   "execution_count": 3,
   "metadata": {},
   "outputs": [],
   "source": [
    "x = torch.tensor(5.0, requires_grad=True)\n",
    "A = x\n",
    "B = torch.exp(A)\n",
    "C = 5\n",
    "D = B + C\n",
    "E = torch.log(D)"
   ]
  },
  {
   "cell_type": "code",
   "execution_count": 4,
   "metadata": {},
   "outputs": [
    {
     "name": "stdout",
     "output_type": "stream",
     "text": [
      "PyTorch 计算的梯度: 0.9674082398414612\n",
      "我手动计算的梯度: 0.9674082723589467\n"
     ]
    }
   ],
   "source": [
    "E.backward()\n",
    "\n",
    "print(f\"PyTorch 计算的梯度: {x.grad.item()}\")\n",
    "\n",
    "manual_grad = torch.exp(x).item() / (torch.exp(x).item() + 5)\n",
    "print(f\"我手动计算的梯度: {manual_grad}\")"
   ]
  },
  {
   "cell_type": "markdown",
   "metadata": {},
   "source": [
    "结果基本一样，所以正确"
   ]
  }
 ],
 "metadata": {
  "colab": {
   "provenance": []
  },
  "kernelspec": {
   "display_name": "Python 3 (ipykernel)",
   "language": "python",
   "name": "python3"
  },
  "language_info": {
   "codemirror_mode": {
    "name": "ipython",
    "version": 3
   },
   "file_extension": ".py",
   "mimetype": "text/x-python",
   "name": "python",
   "nbconvert_exporter": "python",
   "pygments_lexer": "ipython3",
   "version": "3.9.12"
  }
 },
 "nbformat": 4,
 "nbformat_minor": 1
}
